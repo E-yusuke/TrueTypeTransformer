{
 "cells": [
  {
   "cell_type": "code",
   "execution_count": 4,
   "id": "4427d381-5b28-4f01-80ff-947410086f80",
   "metadata": {},
   "outputs": [],
   "source": [
    "import os\n",
    "from hydra import initialize, initialize_config_module, initialize_config_dir, compose\n",
    "from omegaconf import OmegaConf"
   ]
  },
  {
   "cell_type": "code",
   "execution_count": 8,
   "id": "18b23e60-4aa3-4fd8-9293-f303dd7233e2",
   "metadata": {},
   "outputs": [
    {
     "name": "stdout",
     "output_type": "stream",
     "text": [
      "{'method': 'test', 'seed': 777, 'batch_size': 4, 'lr': 0.0001, 'epoch': 50, 'root_dir': '../data/fonts/', 'ref_file': 'google_font_category_v4.csv', 'label_request': 'style', 'filter': 'large', 'lim': 2838, '_fold': 0, 'cuda': 0, 'logs': 'logs', 'patience': 10, 'model': {'name': 'T3', 'font_dim': 100, 'word_size': 5, 'num_classes': 4, 'embed_dim': 100, 'nhead': 5, 'dim_feedforward': 1024, 'depth': 6, 'dropout': 0.1, 'pool': 'cls'}}\n"
     ]
    }
   ],
   "source": [
    "with initialize(version_base=None, config_path=\"src/conf\"):\n",
    "    cfg = compose(config_name = \"config.yaml\", overrides=[])\n",
    "    print(cfg)"
   ]
  },
  {
   "cell_type": "code",
   "execution_count": 10,
   "id": "a3912c03-89a9-430c-b8a1-c6c32dbd4026",
   "metadata": {},
   "outputs": [
    {
     "name": "stderr",
     "output_type": "stream",
     "text": [
      "/home/hoge/.local/lib/python3.9/site-packages/tqdm/auto.py:22: TqdmWarning: IProgress not found. Please update jupyter and ipywidgets. See https://ipywidgets.readthedocs.io/en/stable/user_install.html\n",
      "  from .autonotebook import tqdm as notebook_tqdm\n"
     ]
    }
   ],
   "source": [
    "from src.utils.load import get_loader"
   ]
  },
  {
   "cell_type": "code",
   "execution_count": 12,
   "id": "b737431c-4742-436e-b048-615692102753",
   "metadata": {},
   "outputs": [],
   "source": [
    "from pathlib import Path\n",
    "cwd = Path(os.getcwd())\n",
    "train_loader, val_loader, test_loader = get_loader(cfg, cwd)"
   ]
  },
  {
   "cell_type": "code",
   "execution_count": 13,
   "id": "792d8803-e44d-454a-9c78-c46e3f59ddc0",
   "metadata": {},
   "outputs": [],
   "source": [
    "data, label = next(iter(train_loader))"
   ]
  },
  {
   "cell_type": "code",
   "execution_count": 21,
   "id": "0bea0216-46cc-417e-86af-3bf1ec5a0615",
   "metadata": {},
   "outputs": [],
   "source": [
    "import torch"
   ]
  },
  {
   "cell_type": "code",
   "execution_count": 41,
   "id": "156ef0cd-97f0-4f9a-bddc-3b0e91813d7e",
   "metadata": {},
   "outputs": [],
   "source": [
    "c = []\n",
    "for i in data:\n",
    "    if len(torch.where(i == -1)[0]) == 0:\n",
    "        c.append([0 for _ in range(len(i) + 1)])\n",
    "        continue\n",
    "    else:\n",
    "        c.append([0 if _ < int(torch.where(i == -1)[0][0].detach() + 1) else 1 for _ in range(len(i) + 1)])\n",
    "src_mask2 = (torch.tensor(c) == 1)"
   ]
  },
  {
   "cell_type": "code",
   "execution_count": 42,
   "id": "4e2a8cdf-82e2-4e4b-a54e-2fe30af5bc5c",
   "metadata": {},
   "outputs": [
    {
     "data": {
      "text/plain": [
       "torch.Size([4, 43])"
      ]
     },
     "execution_count": 42,
     "metadata": {},
     "output_type": "execute_result"
    }
   ],
   "source": [
    "src_mask2.shape"
   ]
  },
  {
   "cell_type": "code",
   "execution_count": 44,
   "id": "9ac6ba86-1be8-4859-b95a-89739e124fa5",
   "metadata": {},
   "outputs": [
    {
     "data": {
      "text/plain": [
       "tensor([[False, False, False, False, False, False, False, False, False, False,\n",
       "         False, False, False, False, False, False, False, False, False, False,\n",
       "         False, False, False, False, False, False, False, False, False, False,\n",
       "         False, False, False, False, False, False, False, False, False, False,\n",
       "         False, False, False],\n",
       "        [False, False, False, False, False, False, False, False, False, False,\n",
       "         False, False, False, False, False, False, False, False, False, False,\n",
       "         False, False, False, False, False, False, False, False, False, False,\n",
       "         False, False, False, False, False, False, False, False, False, False,\n",
       "         False, False,  True],\n",
       "        [False, False, False, False, False, False, False, False, False, False,\n",
       "         False, False, False, False, False,  True,  True,  True,  True,  True,\n",
       "          True,  True,  True,  True,  True,  True,  True,  True,  True,  True,\n",
       "          True,  True,  True,  True,  True,  True,  True,  True,  True,  True,\n",
       "          True,  True,  True],\n",
       "        [False, False, False, False, False, False, False, False, False, False,\n",
       "         False, False, False, False,  True,  True,  True,  True,  True,  True,\n",
       "          True,  True,  True,  True,  True,  True,  True,  True,  True,  True,\n",
       "          True,  True,  True,  True,  True,  True,  True,  True,  True,  True,\n",
       "          True,  True,  True]])"
      ]
     },
     "execution_count": 44,
     "metadata": {},
     "output_type": "execute_result"
    }
   ],
   "source": [
    "src_mask2"
   ]
  },
  {
   "cell_type": "code",
   "execution_count": 54,
   "id": "3de341a9-989c-4f04-99eb-6bc510710205",
   "metadata": {},
   "outputs": [
    {
     "data": {
      "text/plain": [
       "torch.Size([4, 42, 1])"
      ]
     },
     "execution_count": 54,
     "metadata": {},
     "output_type": "execute_result"
    }
   ],
   "source": [
    "src_mask = (data == -1)\n",
    "src_mask[:,:,0].unsqueeze(2)"
   ]
  },
  {
   "cell_type": "code",
   "execution_count": 63,
   "id": "6c75b562-f33c-4f73-b87c-4d83d9bb20d1",
   "metadata": {},
   "outputs": [
    {
     "data": {
      "text/plain": [
       "torch.Size([4, 43])"
      ]
     },
     "execution_count": 64,
     "metadata": {},
     "output_type": "execute_result"
    }
   ],
   "source": [
    "torch.cat((torch.full((4,1),fill_value=False), (data == -1)[:,:,0]), dim=1).shape"
   ]
  },
  {
   "cell_type": "code",
   "execution_count": 60,
   "id": "e309ef4f-b1a9-4f7e-80b7-b1c456afb0e4",
   "metadata": {},
   "outputs": [
    {
     "data": {
      "text/plain": [
       "tensor([[False, False, False, False, False, False, False, False, False, False,\n",
       "         False, False, False, False, False, False, False, False, False, False,\n",
       "         False, False, False, False, False, False, False, False, False, False,\n",
       "         False, False, False, False, False, False, False, False, False, False,\n",
       "         False, False, False],\n",
       "        [False, False, False, False, False, False, False, False, False, False,\n",
       "         False, False, False, False, False, False, False, False, False, False,\n",
       "         False, False, False, False, False, False, False, False, False, False,\n",
       "         False, False, False, False, False, False, False, False, False, False,\n",
       "         False, False,  True],\n",
       "        [False, False, False, False, False, False, False, False, False, False,\n",
       "         False, False, False, False, False,  True,  True,  True,  True,  True,\n",
       "          True,  True,  True,  True,  True,  True,  True,  True,  True,  True,\n",
       "          True,  True,  True,  True,  True,  True,  True,  True,  True,  True,\n",
       "          True,  True,  True],\n",
       "        [False, False, False, False, False, False, False, False, False, False,\n",
       "         False, False, False, False,  True,  True,  True,  True,  True,  True,\n",
       "          True,  True,  True,  True,  True,  True,  True,  True,  True,  True,\n",
       "          True,  True,  True,  True,  True,  True,  True,  True,  True,  True,\n",
       "          True,  True,  True]])"
      ]
     },
     "execution_count": 60,
     "metadata": {},
     "output_type": "execute_result"
    }
   ],
   "source": [
    "torch.cat((torch.full((4,1,1),fill_value=False), (data == -1)[:,:,0].unsqueeze(2)), dim=1)[:,:,0]"
   ]
  },
  {
   "cell_type": "code",
   "execution_count": null,
   "id": "b7aa4dfb-8392-4c7b-8d73-6e8a5716bb7f",
   "metadata": {},
   "outputs": [],
   "source": []
  }
 ],
 "metadata": {
  "kernelspec": {
   "display_name": "Python 3 (ipykernel)",
   "language": "python",
   "name": "python3"
  },
  "language_info": {
   "codemirror_mode": {
    "name": "ipython",
    "version": 3
   },
   "file_extension": ".py",
   "mimetype": "text/x-python",
   "name": "python",
   "nbconvert_exporter": "python",
   "pygments_lexer": "ipython3",
   "version": "3.9.13"
  }
 },
 "nbformat": 4,
 "nbformat_minor": 5
}
